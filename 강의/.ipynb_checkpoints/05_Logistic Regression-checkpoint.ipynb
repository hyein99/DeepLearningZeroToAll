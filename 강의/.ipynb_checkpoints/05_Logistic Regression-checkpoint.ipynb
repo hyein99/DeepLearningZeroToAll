{
 "cells": [
  {
   "cell_type": "markdown",
   "metadata": {},
   "source": [
    "# 모두를 위한 딥러닝 시즌2 - PyTorch\n",
    "* Lab04-2 Loading Data\n",
    "* https://www.youtube.com/watch?v=1JT8KhvymmY&list=PLQ28Nx3M4JrhkqBVIXg-i5_CVVoS1UzAv&index=6\n",
    "----------\n",
    "----------"
   ]
  },
  {
   "cell_type": "markdown",
   "metadata": {},
   "source": [
    "## 1. Multivariate Linear Regression 복습"
   ]
  },
  {
   "cell_type": "markdown",
   "metadata": {},
   "source": [
    "<br>\n",
    "\n",
    "----------\n",
    "-----------\n",
    "\n",
    "## 2. \"Minibatch\" Gradient Descent 이론\n",
    "* 엄청난 데이터를 한번에 학습시킬 수 없다!\n",
    "* 일부 데이터로 학습하면 어떨까?\n",
    "* 미니배치\n",
    "    * 업데이트 속도 빠름\n",
    "    * 전체 데이터를 쓰지 않아서 잘못된 방향으로 업데이트 할 수도 있다.\n",
    "    \n",
    "<br>\n",
    "\n",
    "* PyTorch Dataset\n",
    "    * `__len__()`: 이 데이터셋의 총 데이터 수\n",
    "    * `__getitem__()`: 어떠한 인덱스를 받았을 때 그에 상응하는 입출력 데이터 반환"
   ]
  },
  {
   "cell_type": "code",
   "execution_count": 1,
   "metadata": {},
   "outputs": [],
   "source": [
    "from torch.utils.data import Dataset\n",
    "\n",
    "class CustomDastaset(Dataset):\n",
    "    def __init__(self):\n",
    "        self.x_data = [[73, 80, 75],\n",
    "                       [93, 88, 93],\n",
    "                       [89, 91, 90],\n",
    "                       [96, 98, 100],\n",
    "                       [73, 66, 70]]\n",
    "        self.y_data = [[152], [185], [180], [196], [142]]\n",
    "        \n",
    "    def __len__(self):\n",
    "        return len(self.x_data)\n",
    "    \n",
    "    def __getitem__(self, idx):\n",
    "        x = torch.FloatTensor(self.x_data[idx])\n",
    "        y = torch.FloatTensor(self.y_data[idx])\n",
    "        \n",
    "        return x, y"
   ]
  },
  {
   "cell_type": "code",
   "execution_count": 2,
   "metadata": {},
   "outputs": [],
   "source": [
    "dataset = CustomDastaset()"
   ]
  },
  {
   "cell_type": "markdown",
   "metadata": {},
   "source": [
    "* PyTorch DataLoader\n",
    "    * `batch_size`: 미니배치 크기\n",
    "    * `shuffle = True`: Epoch마다 데이터 셋을 섞어서 학습되는 순서 변경"
   ]
  },
  {
   "cell_type": "code",
   "execution_count": 8,
   "metadata": {},
   "outputs": [],
   "source": [
    "import torch\n",
    "import torch.nn as nn\n",
    "import torch.nn.functional as F\n",
    "import torch.optim as optim"
   ]
  },
  {
   "cell_type": "code",
   "execution_count": 9,
   "metadata": {},
   "outputs": [],
   "source": [
    "from torch.utils.data import DataLoader\n",
    "\n",
    "dataloader = DataLoader(\n",
    "    dataset,\n",
    "    batch_size = 2,\n",
    "    shuffle = True,\n",
    ")"
   ]
  },
  {
   "cell_type": "code",
   "execution_count": 10,
   "metadata": {},
   "outputs": [],
   "source": [
    "class MultivariateLinearRegressionModel(nn.Module):\n",
    "    def __init__(self):\n",
    "        super().__init__()\n",
    "        self.linear = nn.Linear(3, 1)\n",
    "\n",
    "    def forward(self, x):\n",
    "        return self.linear(x)"
   ]
  },
  {
   "cell_type": "code",
   "execution_count": 11,
   "metadata": {},
   "outputs": [
    {
     "name": "stdout",
     "output_type": "stream",
     "text": [
      "Epoch    0/20 Batch 1/3 Cost: 40271.593750\n",
      "Epoch    0/20 Batch 2/3 Cost: 7309.729492\n",
      "Epoch    0/20 Batch 3/3 Cost: 1755.592896\n",
      "Epoch    1/20 Batch 1/3 Cost: 1373.010498\n",
      "Epoch    1/20 Batch 2/3 Cost: 238.470367\n",
      "Epoch    1/20 Batch 3/3 Cost: 143.546982\n",
      "Epoch    2/20 Batch 1/3 Cost: 32.933914\n",
      "Epoch    2/20 Batch 2/3 Cost: 11.575611\n",
      "Epoch    2/20 Batch 3/3 Cost: 0.013923\n",
      "Epoch    3/20 Batch 1/3 Cost: 4.509137\n",
      "Epoch    3/20 Batch 2/3 Cost: 2.112151\n",
      "Epoch    3/20 Batch 3/3 Cost: 2.266096\n",
      "Epoch    4/20 Batch 1/3 Cost: 3.396299\n",
      "Epoch    4/20 Batch 2/3 Cost: 1.050631\n",
      "Epoch    4/20 Batch 3/3 Cost: 2.116320\n",
      "Epoch    5/20 Batch 1/3 Cost: 1.859571\n",
      "Epoch    5/20 Batch 2/3 Cost: 1.464074\n",
      "Epoch    5/20 Batch 3/3 Cost: 0.063143\n",
      "Epoch    6/20 Batch 1/3 Cost: 1.893898\n",
      "Epoch    6/20 Batch 2/3 Cost: 1.948139\n",
      "Epoch    6/20 Batch 3/3 Cost: 0.716841\n",
      "Epoch    7/20 Batch 1/3 Cost: 2.410375\n",
      "Epoch    7/20 Batch 2/3 Cost: 0.578729\n",
      "Epoch    7/20 Batch 3/3 Cost: 2.172853\n",
      "Epoch    8/20 Batch 1/3 Cost: 2.838444\n",
      "Epoch    8/20 Batch 2/3 Cost: 0.077243\n",
      "Epoch    8/20 Batch 3/3 Cost: 2.143667\n",
      "Epoch    9/20 Batch 1/3 Cost: 2.855581\n",
      "Epoch    9/20 Batch 2/3 Cost: 1.099156\n",
      "Epoch    9/20 Batch 3/3 Cost: 0.001863\n",
      "Epoch   10/20 Batch 1/3 Cost: 2.154966\n",
      "Epoch   10/20 Batch 2/3 Cost: 2.387236\n",
      "Epoch   10/20 Batch 3/3 Cost: 0.007749\n",
      "Epoch   11/20 Batch 1/3 Cost: 2.094729\n",
      "Epoch   11/20 Batch 2/3 Cost: 1.041377\n",
      "Epoch   11/20 Batch 3/3 Cost: 2.143667\n",
      "Epoch   12/20 Batch 1/3 Cost: 0.581648\n",
      "Epoch   12/20 Batch 2/3 Cost: 3.131503\n",
      "Epoch   12/20 Batch 3/3 Cost: 0.138948\n",
      "Epoch   13/20 Batch 1/3 Cost: 2.531608\n",
      "Epoch   13/20 Batch 2/3 Cost: 0.130147\n",
      "Epoch   13/20 Batch 3/3 Cost: 1.013135\n",
      "Epoch   14/20 Batch 1/3 Cost: 0.380430\n",
      "Epoch   14/20 Batch 2/3 Cost: 0.776728\n",
      "Epoch   14/20 Batch 3/3 Cost: 5.301040\n",
      "Epoch   15/20 Batch 1/3 Cost: 3.143466\n",
      "Epoch   15/20 Batch 2/3 Cost: 0.076066\n",
      "Epoch   15/20 Batch 3/3 Cost: 2.987450\n",
      "Epoch   16/20 Batch 1/3 Cost: 0.936919\n",
      "Epoch   16/20 Batch 2/3 Cost: 2.525422\n",
      "Epoch   16/20 Batch 3/3 Cost: 3.583296\n",
      "Epoch   17/20 Batch 1/3 Cost: 1.983923\n",
      "Epoch   17/20 Batch 2/3 Cost: 1.085994\n",
      "Epoch   17/20 Batch 3/3 Cost: 3.861031\n",
      "Epoch   18/20 Batch 1/3 Cost: 0.085757\n",
      "Epoch   18/20 Batch 2/3 Cost: 1.397732\n",
      "Epoch   18/20 Batch 3/3 Cost: 5.180319\n",
      "Epoch   19/20 Batch 1/3 Cost: 0.557281\n",
      "Epoch   19/20 Batch 2/3 Cost: 3.608626\n",
      "Epoch   19/20 Batch 3/3 Cost: 0.156354\n",
      "Epoch   20/20 Batch 1/3 Cost: 1.015535\n",
      "Epoch   20/20 Batch 2/3 Cost: 0.390496\n",
      "Epoch   20/20 Batch 3/3 Cost: 4.454357\n"
     ]
    }
   ],
   "source": [
    "x_train = torch.FloatTensor([[73, 80, 75],\n",
    "                             [93, 88, 93],\n",
    "                             [89, 91, 90],\n",
    "                             [96, 98, 100],\n",
    "                             [73, 66, 70]])\n",
    "y_train = torch.FloatTensor([[152], [185], [180], [196], [142]])\n",
    "\n",
    "# 모델 초기화\n",
    "model = MultivariateLinearRegressionModel()\n",
    "\n",
    "# optimizer 설정\n",
    "optimizer = optim.SGD(model.parameters(), lr=1e-5)\n",
    "\n",
    "nb_epochs = 20\n",
    "for epoch in range(nb_epochs + 1):\n",
    "    for batch_idx, samples in enumerate(dataloader):\n",
    "        x_train, y_train = samples\n",
    "        \n",
    "        # H(x) 계산\n",
    "        prediction = model(x_train)\n",
    "\n",
    "        # cost 계산\n",
    "        cost = F.mse_loss(prediction, y_train)\n",
    "\n",
    "        # cost로 H(x) 개선\n",
    "        optimizer.zero_grad()\n",
    "        cost.backward()\n",
    "        optimizer.step()\n",
    "\n",
    "        # 20번마다 로그 출력\n",
    "        print('Epoch {:4d}/{} Batch {}/{} Cost: {:.6f}'.format(\n",
    "            epoch, nb_epochs, batch_idx +1, len(dataloader), cost.item()\n",
    "        ))"
   ]
  },
  {
   "cell_type": "markdown",
   "metadata": {},
   "source": [
    "<br>\n",
    "\n",
    "----------\n",
    "-----------\n",
    "\n",
    "## 3. PyTorch Dataset and DataLoader 사용법"
   ]
  },
  {
   "cell_type": "code",
   "execution_count": null,
   "metadata": {},
   "outputs": [],
   "source": []
  }
 ],
 "metadata": {
  "kernelspec": {
   "display_name": "pydatavenv",
   "language": "python",
   "name": "pydatavenv"
  },
  "language_info": {
   "codemirror_mode": {
    "name": "ipython",
    "version": 3
   },
   "file_extension": ".py",
   "mimetype": "text/x-python",
   "name": "python",
   "nbconvert_exporter": "python",
   "pygments_lexer": "ipython3",
   "version": "3.7.9"
  },
  "metadata": {
   "interpreter": {
    "hash": "0a34ec0e34db5941e7f20663ed6c8109a9fa47ca7f198d032822b4d2d48d368b"
   }
  }
 },
 "nbformat": 4,
 "nbformat_minor": 2
}
