{
 "metadata": {
  "language_info": {
   "codemirror_mode": {
    "name": "ipython",
    "version": 3
   },
   "file_extension": ".py",
   "mimetype": "text/x-python",
   "name": "python",
   "nbconvert_exporter": "python",
   "pygments_lexer": "ipython3",
   "version": "3.7.9-final"
  },
  "orig_nbformat": 2,
  "kernelspec": {
   "name": "pydatavenv",
   "display_name": "Python 3.7.9 64-bit ('pydatavenv': conda)"
  }
 },
 "nbformat": 4,
 "nbformat_minor": 2,
 "cells": [
  {
   "source": [
    "# 모두를 위한 딥러닝 시즌2 - PyTorch\n",
    "* https://www.youtube.com/watch?v=7eldOrjQVi0&list=PLQ28Nx3M4JrhkqBVIXg-i5_CVVoS1UzAv&index=1<br>\n",
    "----------\n",
    "----------"
   ],
   "cell_type": "markdown",
   "metadata": {}
  },
  {
   "source": [
    "## Docker?\n",
    "* 컨테이너 기반 가상화 시스템\n",
    "* Virtualization: 클라우드 핵심 기술\n",
    "* open source\n",
    "* Container: 운영체제 알맹이는 통일하고 필요한 부분만 묶어서 가볍게 가상화\n",
    "\n",
    "## Download\n",
    "* Window 10 Home\n",
    "    * Docker Toolbox 사용해야 했는데 최근에 Deprecated됨.\n",
    "* Window 10 Pro/Education/Enterprise\n",
    "    * Docker Desktop: https://docs.docker.com/docker-for-windows/install/\n",
    "    * WSL2 설치\n",
    "    "
   ],
   "cell_type": "markdown",
   "metadata": {}
  }
 ]
}